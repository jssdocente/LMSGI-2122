{
 "cells": [
  {
   "cell_type": "markdown",
   "metadata": {},
   "source": [
    "# Trabajo con XPath con Python (Boletín extraordinario)"
   ]
  },
  {
   "cell_type": "markdown",
   "metadata": {},
   "source": [
    "La parte de python, es solo para que la puedas probar que funciona.\n",
    "\n",
    "Para la realización de estos ejercicios es necesario instalar la libreria \"lxml\"\n",
    "```sh\n",
    "$> pip install lxml\n",
    "```"
   ]
  },
  {
   "cell_type": "markdown",
   "metadata": {},
   "source": [
    "Los ejercicios se realizarán sobre el siguiente documento XML \"mundial.resultados.xml\"\n",
    "El fichero tiene una estructura, por un lado están los resultados_paises, que contiene al información resumida del paso del equipo por el mundial, y también "
   ]
  },
  {
   "cell_type": "markdown",
   "metadata": {},
   "source": [
    "#### CARGA DEL FICHERO XML."
   ]
  },
  {
   "cell_type": "code",
   "execution_count": 15,
   "metadata": {},
   "outputs": [],
   "source": [
    "# Parte común para todos los ejercicios, ejecutar siempre al principio\n",
    "from lxml import etree\n",
    "\n",
    "doc = etree.parse('./res/mundial.resultados.xml')"
   ]
  },
  {
   "cell_type": "markdown",
   "metadata": {},
   "source": [
    "### Ejercicio 1 \n",
    "Mostrar el id del pais desde los resultados de los paises. (Contenido)\n",
    "\n",
    "(Este ejercicio es de ejemplo, para ver como se hace)"
   ]
  },
  {
   "cell_type": "code",
   "execution_count": null,
   "metadata": {},
   "outputs": [],
   "source": [
    "#Ejemplo de uso.. Mostrar el id sin etiquetas de los paises que han concurrido al mundial\n",
    "# >> sin etiquetas significa, obtener el valor de la etiqueta, es decir, su contenido\n",
    "# doc.xpath('/mundial/resultados_paises/country/id//text()')\n",
    "\n",
    "# ==> Tu respuesta debajo\n",
    "doc.xpath('/mundial/resultados_paises/country/id/text()')"
   ]
  },
  {
   "cell_type": "markdown",
   "metadata": {},
   "source": [
    "### Ejercicio 2\n",
    "Mostrar el pais al que pertenecen los equipos que han participado en el mundial. (Contenido)"
   ]
  },
  {
   "cell_type": "code",
   "execution_count": null,
   "metadata": {},
   "outputs": [],
   "source": [
    "# coloca dentro del '' el texto de la expresión XPATH\n",
    "doc.xpath('')"
   ]
  },
  {
   "cell_type": "markdown",
   "metadata": {},
   "source": [
    "### Ejercicio 3\n",
    "Mostrar el codigo_fifa de todos los equipos participantes en el mundial. (Contenido)"
   ]
  },
  {
   "cell_type": "code",
   "execution_count": null,
   "metadata": {},
   "outputs": [],
   "source": [
    "# coloca dentro del '' el texto de la expresión XPATH\n",
    "doc.xpath('')"
   ]
  },
  {
   "cell_type": "markdown",
   "metadata": {},
   "source": [
    "### Ejercicio 4\n",
    "Mostrar el nombre del equipo de todos los equipos participantes en el mundial (Contenido)"
   ]
  },
  {
   "cell_type": "code",
   "execution_count": null,
   "metadata": {},
   "outputs": [],
   "source": [
    "doc.xpath('')"
   ]
  },
  {
   "cell_type": "markdown",
   "metadata": {},
   "source": [
    "### Ejercicio 5\n",
    "Mostrar el pais de todos los equipos dentro del grupo_id 3. Sin etiqueta (Contenido)"
   ]
  },
  {
   "cell_type": "code",
   "execution_count": 20,
   "metadata": {},
   "outputs": [
    {
     "data": {
      "text/plain": [
       "['Australia', 'Italy', 'Brazil', 'Jamaica']"
      ]
     },
     "execution_count": 20,
     "metadata": {},
     "output_type": "execute_result"
    }
   ],
   "source": [
    "doc.xpath('')"
   ]
  },
  {
   "cell_type": "markdown",
   "metadata": {},
   "source": [
    "### Ejercicio 6\n",
    "Mostrar el pais de todos los equipos dentro del grupo_id sea 3 y su grupo_letra sea C. Sin etiqueta (Contenido)"
   ]
  },
  {
   "cell_type": "code",
   "execution_count": 22,
   "metadata": {},
   "outputs": [
    {
     "data": {
      "text/plain": [
       "['Australia', 'Italy', 'Brazil', 'Jamaica']"
      ]
     },
     "execution_count": 22,
     "metadata": {},
     "output_type": "execute_result"
    }
   ],
   "source": [
    "doc.xpath('')"
   ]
  },
  {
   "cell_type": "markdown",
   "metadata": {},
   "source": [
    "### Ejercicio 7\n",
    "Mostrar los nombres de los ciclos formativos anteriores a 2010 sin etiquetas."
   ]
  },
  {
   "cell_type": "code",
   "execution_count": null,
   "metadata": {},
   "outputs": [],
   "source": [
    "doc.xpath('')"
   ]
  },
  {
   "cell_type": "markdown",
   "metadata": {},
   "source": [
    "### Ejercicio 8\n",
    "Mostrar los nombres de los ciclos formativos de 2008 o de 2010."
   ]
  },
  {
   "cell_type": "code",
   "execution_count": null,
   "metadata": {},
   "outputs": [],
   "source": [
    "doc.xpath('')"
   ]
  }
 ],
 "metadata": {
  "interpreter": {
   "hash": "8344beb2e3695cc865366b87c9e795fe295d5e1a75013da0c7029a373688a8d6"
  },
  "kernelspec": {
   "display_name": "Python 3.9.12 64-bit (windows store)",
   "language": "python",
   "name": "python3"
  },
  "language_info": {
   "codemirror_mode": {
    "name": "ipython",
    "version": 3
   },
   "file_extension": ".py",
   "mimetype": "text/x-python",
   "name": "python",
   "nbconvert_exporter": "python",
   "pygments_lexer": "ipython3",
   "version": "3.9.13"
  },
  "orig_nbformat": 4
 },
 "nbformat": 4,
 "nbformat_minor": 2
}
